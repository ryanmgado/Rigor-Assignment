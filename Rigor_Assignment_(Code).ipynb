{
  "nbformat": 4,
  "nbformat_minor": 0,
  "metadata": {
    "colab": {
      "provenance": [],
      "authorship_tag": "ABX9TyMGSPOrjaLLhZb9fiebtkmb",
      "include_colab_link": true
    },
    "kernelspec": {
      "name": "python3",
      "display_name": "Python 3"
    },
    "language_info": {
      "name": "python"
    }
  },
  "cells": [
    {
      "cell_type": "markdown",
      "metadata": {
        "id": "view-in-github",
        "colab_type": "text"
      },
      "source": [
        "<a href=\"https://colab.research.google.com/github/ryanmgado/Rigor-Assignment/blob/main/Rigor_Assignment_(Code).ipynb\" target=\"_parent\"><img src=\"https://colab.research.google.com/assets/colab-badge.svg\" alt=\"Open In Colab\"/></a>"
      ]
    },
    {
      "cell_type": "code",
      "execution_count": 1,
      "metadata": {
        "colab": {
          "base_uri": "https://localhost:8080/"
        },
        "id": "MgpLt4GnjdG0",
        "outputId": "1cb6a02f-3a18-4352-ef7d-f19a58c34ef1"
      },
      "outputs": [
        {
          "output_type": "execute_result",
          "data": {
            "text/plain": [
              "4"
            ]
          },
          "metadata": {},
          "execution_count": 1
        }
      ],
      "source": [
        "# prompt: perform a simple arithmetic function, 2+2 and print the result\n",
        "\n",
        "result = 2 + 2\n",
        "result"
      ]
    },
    {
      "cell_type": "code",
      "source": [
        "# prompt: print today's date\n",
        "\n",
        "from datetime import date\n",
        "\n",
        "today = date.today()\n",
        "print(\"Today's date:\", today)"
      ],
      "metadata": {
        "colab": {
          "base_uri": "https://localhost:8080/"
        },
        "id": "IznUGeHRj0fV",
        "outputId": "13d75a30-7a62-44ce-e416-ddbf7f6db27e"
      },
      "execution_count": 2,
      "outputs": [
        {
          "output_type": "stream",
          "name": "stdout",
          "text": [
            "Today's date: 2024-10-29\n"
          ]
        }
      ]
    }
  ]
}