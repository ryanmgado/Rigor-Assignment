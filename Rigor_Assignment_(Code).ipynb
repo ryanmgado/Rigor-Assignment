{
  "nbformat": 4,
  "nbformat_minor": 0,
  "metadata": {
    "colab": {
      "provenance": [],
      "authorship_tag": "ABX9TyOowGFoRK/EFVWWi4NcZ4hf",
      "include_colab_link": true
    },
    "kernelspec": {
      "name": "python3",
      "display_name": "Python 3"
    },
    "language_info": {
      "name": "python"
    }
  },
  "cells": [
    {
      "cell_type": "markdown",
      "metadata": {
        "id": "view-in-github",
        "colab_type": "text"
      },
      "source": [
        "<a href=\"https://colab.research.google.com/github/ryanmgado/Rigor-Assignment/blob/main/Rigor_Assignment_(Code).ipynb\" target=\"_parent\"><img src=\"https://colab.research.google.com/assets/colab-badge.svg\" alt=\"Open In Colab\"/></a>"
      ]
    },
    {
      "cell_type": "code",
      "execution_count": 1,
      "metadata": {
        "colab": {
          "base_uri": "https://localhost:8080/"
        },
        "id": "MgpLt4GnjdG0",
        "outputId": "1cb6a02f-3a18-4352-ef7d-f19a58c34ef1"
      },
      "outputs": [
        {
          "output_type": "execute_result",
          "data": {
            "text/plain": [
              "4"
            ]
          },
          "metadata": {},
          "execution_count": 1
        }
      ],
      "source": [
        "# prompt: perform a simple arithmetic function, 2+2 and print the result\n",
        "\n",
        "result = 2 + 2\n",
        "result"
      ]
    },
    {
      "cell_type": "code",
      "source": [
        "# prompt: print today's date\n",
        "\n",
        "from datetime import date\n",
        "\n",
        "today = date.today()\n",
        "print(\"Today's date:\", today)"
      ],
      "metadata": {
        "colab": {
          "base_uri": "https://localhost:8080/"
        },
        "id": "IznUGeHRj0fV",
        "outputId": "13d75a30-7a62-44ce-e416-ddbf7f6db27e"
      },
      "execution_count": 2,
      "outputs": [
        {
          "output_type": "stream",
          "name": "stdout",
          "text": [
            "Today's date: 2024-10-29\n"
          ]
        }
      ]
    },
    {
      "cell_type": "markdown",
      "source": [
        "Using repositories are extremely useful to keep collaborations and projects organized in general because it can be easy for projects to accumulate a mess of relevant files and code. Additionally, one of the most important components is the ability to track changes. This allows participants to see what changes were made, when, and by who. This is extremely important in order to narrow down why something that was working may no longer be working. It also makes it so that the code can't easily be broken by an erroneous change that collaborators lose track of.\n",
        "\n",
        "By being faithful with submiting your files to a repository, collaborators have the opportunity to review your work and build off of it; this eliminates the chokepoint of emailing someone to request a file, waiting for days, and then perhaps getting a file that is missing information. Repositories allow for a collaborative space to add READMEs and ALL of the relevant files, which can make the associated files/projects much easier to understand. This cuts down time, confusion, and makes the work more reproducible.\n",
        "\n",
        "Overally, repositories make a project significantly more transparent. It becomes clear when a project was worked on, by who, and what changes were made. If researchers are also committed to reproducibility, they should include rationale, explanations, and READMEs as well!"
      ],
      "metadata": {
        "id": "BPuxTKcNn-Kk"
      }
    }
  ]
}